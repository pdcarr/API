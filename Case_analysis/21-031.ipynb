{
 "cells": [
  {
   "cell_type": "markdown",
   "id": "fa213bd4",
   "metadata": {},
   "source": [
    "**Case 21-031**"
   ]
  },
  {
   "cell_type": "code",
   "execution_count": 56,
   "id": "d7905b28",
   "metadata": {},
   "outputs": [],
   "source": [
    "import numpy as np\n",
    "import sympy as sp\n",
    "sp.init_printing()"
   ]
  },
  {
   "cell_type": "markdown",
   "id": "1df005d3",
   "metadata": {},
   "source": [
    "**Data and measurements**"
   ]
  },
  {
   "cell_type": "code",
   "execution_count": 57,
   "id": "1707f159",
   "metadata": {},
   "outputs": [
    {
     "name": "stdout",
     "output_type": "stream",
     "text": [
      "Time to traverse screen:  17.56623289956623  seconds\n"
     ]
    }
   ],
   "source": [
    "alpha_az = 107.056 # deg\n",
    "alpha_el = 43.497 # deg\n",
    "tau1_az = 109.238 # deg\n",
    "tau1_el = 44.468 #deg\n",
    "delta_pix = 288 # pixels between two stars\n",
    "frame_rate = 29.97 # frames per second\n",
    "t_traverse = 54 + 12/frame_rate - (36 + 25/frame_rate) # seconds\n",
    "print(\"Time to traverse screen: \",t_traverse,\" seconds\")\n",
    "in_dist = 1536 # pixels from alpha tau\n",
    "in_ang = 180- 44.26 # degrees\n",
    "out_dist = 1093.9 # pixels\n",
    "out_ang = 270+ 21.32 # degrees"
   ]
  },
  {
   "cell_type": "markdown",
   "id": "e1f0caa7",
   "metadata": {},
   "source": [
    "**Calculations**"
   ]
  },
  {
   "cell_type": "code",
   "execution_count": 58,
   "id": "9ba2ca5a",
   "metadata": {},
   "outputs": [
    {
     "name": "stdout",
     "output_type": "stream",
     "text": [
      "angle between stars:  1.8459602308070742  deg\n",
      "Object Size in degrees:  0.19869710817715033\n"
     ]
    }
   ],
   "source": [
    "delta_az = (tau1_az - alpha_az)*np.pi/180\n",
    "delta_el = (tau1_el - alpha_el)*np.pi/180\n",
    "delta_ang = np.arccos(np.cos(delta_az)*np.cos(delta_el) + \n",
    "                      (1-np.cos(delta_az))*np.sin(alpha_el*np.pi/180)*np.sin(tau1_el*np.pi/180)) # angle between two star\n",
    "print(\"angle between stars: \",delta_ang*180/np.pi,\" deg\")\n",
    "obj_pix = 31 #pixels\n",
    "obj_size = delta_ang/delta_pix*obj_pix # radians\n",
    "print(\"Object Size in degrees: \",obj_size*180/np.pi)\n",
    "#print(\"Object size at 500 meters: \",obj_size*500)"
   ]
  },
  {
   "cell_type": "code",
   "execution_count": 59,
   "id": "38c717fc",
   "metadata": {},
   "outputs": [
    {
     "name": "stdout",
     "output_type": "stream",
     "text": [
      "angle traversed =  16.48614963530884  degrees\n",
      "time_to_traverse_frame:  17.56623289956623  seconds\n",
      "average speed =  4.7233383240896645  diameters per second\n"
     ]
    }
   ],
   "source": [
    "in_ang_rad = in_ang*np.pi/180 # convert to radians\n",
    "out_ang_rad = out_ang*np.pi/180\n",
    "#print(np.array((np.cos(in_ang_rad),np.sin(in_ang_rad))))\n",
    "twoD_in_vec = in_dist*np.array((np.cos(in_ang_rad),np.sin(in_ang_rad)))\n",
    "twoD_out_vec = out_dist*np.array((np.cos(out_ang_rad),np.sin(out_ang_rad)))\n",
    "diff_vec = twoD_out_vec - twoD_in_vec\n",
    "#print(twoD_in_vec)\n",
    "d_traverse = np.sqrt(np.dot(diff_vec,diff_vec)) # pixels\n",
    "print(\"angle traversed = \",d_traverse*delta_ang/delta_pix*180/np.pi,\" degrees\")\n",
    "diam_per_sec = (d_traverse/obj_pix)/t_traverse # object speed in daimeters per second\n",
    "print(\"time_to_traverse_frame: \",t_traverse,\" seconds\")\n",
    "print(\"average speed = \", diam_per_sec,\" diameters per second\")"
   ]
  },
  {
   "cell_type": "code",
   "execution_count": 60,
   "id": "d0fb196f",
   "metadata": {},
   "outputs": [
    {
     "name": "stdout",
     "output_type": "stream",
     "text": [
      "[-1100.05270288  1071.99815806]\n"
     ]
    }
   ],
   "source": [
    "print(twoD_in_vec)"
   ]
  },
  {
   "cell_type": "code",
   "execution_count": 61,
   "id": "e78e02ec",
   "metadata": {},
   "outputs": [
    {
     "name": "stdout",
     "output_type": "stream",
     "text": [
      "total range to object:  8942.454729141951  meters\n",
      "approximate size  31.0117064430528  meters\n",
      "approximate altitude:  15977.891241505402  feet\n",
      "projected_speed:  146.47878153788966  meters per second\n",
      "projected_speed:  704.8410310222162  miles per hour\n"
     ]
    }
   ],
   "source": [
    "gnd_dist_meters = 7500\n",
    "\n",
    "alt_estimate_meters = np.arctan(alpha_el*np.pi/180)*gnd_dist_meters\n",
    "alt_estimate_feet = alt_estimate_meters/0.3048\n",
    "range_meters = np.sqrt(gnd_dist_meters**2 + alt_estimate_meters**2)\n",
    "print(\"total range to object: \",range_meters,\" meters\")\n",
    "print(\"approximate size \",obj_size*range_meters,\" meters\")\n",
    "print(\"approximate altitude: \",alt_estimate_feet,\" feet\")\n",
    "projected_speed_mps = (d_traverse*(delta_ang/delta_pix)/t_traverse)*range_meters\n",
    "print(\"projected_speed: \",projected_speed_mps,\" meters per second\")\n",
    "print(\"projected_speed: \",(projected_speed_mps/0.3048)*5280/3600,\" miles per hour\")"
   ]
  },
  {
   "cell_type": "code",
   "execution_count": 65,
   "id": "1592ed56",
   "metadata": {},
   "outputs": [
    {
     "name": "stdout",
     "output_type": "stream",
     "text": [
      "0.016380153545596382\n",
      "0.00011186834683492328\n"
     ]
    }
   ],
   "source": [
    "print(d_traverse*(delta_ang/delta_pix)/t_traverse)\n",
    "print(delta_ang/delta_pix)"
   ]
  }
 ],
 "metadata": {
  "kernelspec": {
   "display_name": "Python 3",
   "language": "python",
   "name": "python3"
  },
  "language_info": {
   "codemirror_mode": {
    "name": "ipython",
    "version": 3
   },
   "file_extension": ".py",
   "mimetype": "text/x-python",
   "name": "python",
   "nbconvert_exporter": "python",
   "pygments_lexer": "ipython3",
   "version": "3.8.8"
  }
 },
 "nbformat": 4,
 "nbformat_minor": 5
}
