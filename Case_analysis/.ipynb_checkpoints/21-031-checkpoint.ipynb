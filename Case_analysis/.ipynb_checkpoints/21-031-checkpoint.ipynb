{
 "cells": [
  {
   "cell_type": "markdown",
   "id": "fa213bd4",
   "metadata": {},
   "source": [
    "**Case 21-031**"
   ]
  },
  {
   "cell_type": "code",
   "execution_count": 7,
   "id": "d7905b28",
   "metadata": {},
   "outputs": [],
   "source": [
    "import numpy as np"
   ]
  },
  {
   "cell_type": "markdown",
   "id": "1df005d3",
   "metadata": {},
   "source": [
    "**Data and measurements**"
   ]
  },
  {
   "cell_type": "code",
   "execution_count": 8,
   "id": "1707f159",
   "metadata": {},
   "outputs": [
    {
     "name": "stdout",
     "output_type": "stream",
     "text": [
      "Time to traverse screen:  17.56623289956623  seconds\n"
     ]
    }
   ],
   "source": [
    "alpha_az = 107.056 # deg\n",
    "alpha_el = 43.497 # deg\n",
    "tau1_az = 109.238 # deg\n",
    "tau1_el = 44.468 #deg\n",
    "delta_pix = 288 # pixels between two stars\n",
    "frame_rate = 29.97 # frames per second\n",
    "t_traverse = 54 + 12/frame_rate - (36 + 25/frame_rate) # seconds\n",
    "print(\"Time to traverse screen: \",t_traverse,\" seconds\")\n",
    "in_dist = 1536 # pixels\n",
    "in_ang = 180- 44.26 # degrees\n",
    "out_dist = 1093.9 # pixels\n",
    "out_ang = 270+ 21.32 # degrees"
   ]
  },
  {
   "cell_type": "markdown",
   "id": "e1f0caa7",
   "metadata": {},
   "source": [
    "**Calculations**"
   ]
  },
  {
   "cell_type": "code",
   "execution_count": 9,
   "id": "9ba2ca5a",
   "metadata": {},
   "outputs": [
    {
     "name": "stdout",
     "output_type": "stream",
     "text": [
      "1.8459602308070742\n",
      "2883.5738999281116\n",
      "0.0034679187518826217\n",
      "Object Size in degrees:  0.19869710817715033\n"
     ]
    }
   ],
   "source": [
    "delta_az = (tau1_az - alpha_az)*np.pi/180\n",
    "delta_el = (tau1_el - alpha_el)*np.pi/180\n",
    "delta_ang = np.arccos(np.cos(delta_az)*np.cos(delta_el) + \n",
    "                      (1-np.cos(delta_az))*np.sin(alpha_el*np.pi/180)*np.sin(tau1_el*np.pi/180)) # angle between two star\n",
    "#print(delta_ang*180/np.pi)\n",
    "obj_pix = 31 #pixels\n",
    "obj_size = delta_ang/delta_pix*obj_pix # radians\n",
    "#print(10/obj_size)\n",
    "#print(obj_size)\n",
    "print(\"Object Size in degrees: \",obj_size*180/np.pi)"
   ]
  },
  {
   "cell_type": "code",
   "execution_count": 25,
   "id": "066e7aab",
   "metadata": {},
   "outputs": [],
   "source": [
    "in_ang_rad = in_ang*np.pi/180 # convert to radians\n",
    "out_ang_rad = out_ang*np.pi/180\n",
    "#print(np.array((np.cos(in_ang_rad),np.sin(in_ang_rad))))\n",
    "twoD_in_vec = in_dist*np.array((np.cos(in_ang_rad),np.sin(in_ang_rad)))\n",
    "twoD_out_vec = out_dist*np.array((np.cos(out_ang_rad),np.sin(out_ang_rad)))\n",
    "diff_vec = twoD_out_vec - twoD_in_vec\n",
    "#print(twoD_in_vec)\n",
    "d_traverse = np.sqrt(np.dot(diff_vec,diff_vec))\n",
    "print(\"angle traversed = \",dtraverse*delta_ang/)"
   ]
  },
  {
   "cell_type": "code",
   "execution_count": null,
   "id": "c7411859",
   "metadata": {},
   "outputs": [],
   "source": []
  }
 ],
 "metadata": {
  "kernelspec": {
   "display_name": "Python 3",
   "language": "python",
   "name": "python3"
  },
  "language_info": {
   "codemirror_mode": {
    "name": "ipython",
    "version": 3
   },
   "file_extension": ".py",
   "mimetype": "text/x-python",
   "name": "python",
   "nbconvert_exporter": "python",
   "pygments_lexer": "ipython3",
   "version": "3.8.8"
  }
 },
 "nbformat": 4,
 "nbformat_minor": 5
}
