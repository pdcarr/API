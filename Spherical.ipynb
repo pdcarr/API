{
 "cells": [
  {
   "cell_type": "markdown",
   "id": "fa213bd4",
   "metadata": {},
   "source": [
    "**Case 21-031**"
   ]
  },
  {
   "cell_type": "code",
   "execution_count": 4,
   "id": "d7905b28",
   "metadata": {},
   "outputs": [],
   "source": [
    "import numpy as np"
   ]
  },
  {
   "cell_type": "markdown",
   "id": "1df005d3",
   "metadata": {},
   "source": [
    "**Data**"
   ]
  },
  {
   "cell_type": "code",
   "execution_count": null,
   "id": "1707f159",
   "metadata": {},
   "outputs": [],
   "source": [
    "alpha_az = 107.056 # deg\n",
    "alpha_el = 43.497 # deg\n",
    "tau1_az = 109.238 # deg\n",
    "tau1_el = 44.468 #deg\n",
    "delta_pix = 288 # pixels"
   ]
  },
  {
   "cell_type": "markdown",
   "id": "e1f0caa7",
   "metadata": {},
   "source": [
    "**Calculations**"
   ]
  },
  {
   "cell_type": "code",
   "execution_count": 6,
   "id": "9ba2ca5a",
   "metadata": {},
   "outputs": [
    {
     "name": "stdout",
     "output_type": "stream",
     "text": [
      "1.8459602308070742\n",
      "2883.5738999281116\n",
      "0.0034679187518826217\n",
      "Object Size in degrees 0.19869710817715033\n"
     ]
    }
   ],
   "source": [
    "delta_az = (tau1_az - alpha_az)*np.pi/180\n",
    "delta_el = (tau1_el - alpha_el)*np.pi/180\n",
    "delta_ang = np.arccos(np.cos(delta_az)*np.cos(delta_el) + \n",
    "                      (1-np.cos(delta_az))*np.sin(alpha_el*np.pi/180)*np.sin(tau1_el*np.pi/180)) # angle between two star\n",
    "print(delta_ang*180/np.pi)\n",
    "obj_pix = 31 #pixels\n",
    "obj_size = delta_ang/delta_pix*obj_pix # radians\n",
    "print(10/obj_size)\n",
    "print(obj_size)\n",
    "print(\"Object Size in degrees: \",obj_size*180/np.pi)"
   ]
  }
 ],
 "metadata": {
  "kernelspec": {
   "display_name": "Python 3",
   "language": "python",
   "name": "python3"
  },
  "language_info": {
   "codemirror_mode": {
    "name": "ipython",
    "version": 3
   },
   "file_extension": ".py",
   "mimetype": "text/x-python",
   "name": "python",
   "nbconvert_exporter": "python",
   "pygments_lexer": "ipython3",
   "version": "3.8.8"
  }
 },
 "nbformat": 4,
 "nbformat_minor": 5
}
